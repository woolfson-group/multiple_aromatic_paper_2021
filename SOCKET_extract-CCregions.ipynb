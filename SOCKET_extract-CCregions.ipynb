{
 "cells": [
  {
   "cell_type": "code",
   "execution_count": 21,
   "metadata": {},
   "outputs": [],
   "source": [
    "import re\n",
    "import os\n",
    "import numpy as np\n",
    "import json"
   ]
  },
  {
   "cell_type": "code",
   "execution_count": 23,
   "metadata": {},
   "outputs": [],
   "source": [
    "##This script outputs a JSON dictionary where keys = pdb id and values = nested list of CC regions defined by \n",
    "##chain ID first residue and last residue of CC region.\n",
    "def get_CCregion(line_withCCregion):\n",
    "    #Takes line and extracts and returns the coiled coil chain, starting residue and last residues\n",
    "    count = 0\n",
    "    first_residue = []\n",
    "    last_residue = []\n",
    "    chain = []\n",
    "    isitfirst_residue = False\n",
    "    chainnameover = False\n",
    "    for x in reversed(line_withCCregion):\n",
    "        if x == ' ':\n",
    "            break\n",
    "        elif x == '-':\n",
    "            isitfirst_residue = True\n",
    "        elif x == ':':\n",
    "            chainnameover = True\n",
    "        elif x.isdigit() and isitfirst_residue == True:\n",
    "            first_residue.append(x)\n",
    "        elif x.isdigit():\n",
    "            last_residue.append(x)\n",
    "        elif count != 0:\n",
    "            chain.append(x)\n",
    "        else:\n",
    "            count += 1\n",
    "    first_residue.reverse()\n",
    "    last_residue.reverse()\n",
    "    chain.reverse()\n",
    "    first_residue_str = ''.join(map(str,first_residue))\n",
    "    last_residue_str = ''.join(map(str,last_residue))\n",
    "    chain_str = ''.join(map(str,chain))\n",
    "    \n",
    "    return chain_str, first_residue_str, last_residue_str"
   ]
  },
  {
   "cell_type": "code",
   "execution_count": 24,
   "metadata": {
    "scrolled": true
   },
   "outputs": [],
   "source": [
    "import_directory = os.fsencode('./')\n",
    "cc_regions = {}\n",
    "for socket_file in sorted(os.listdir(import_directory)):\n",
    "    filename = os.fsdecode(socket_file)\n",
    "    directory = os.fsdecode(import_directory)\n",
    "    if os.path.isfile(directory+filename) and not filename.startswith('.') :\n",
    "        with open(directory+filename, 'r') as socket_output:\n",
    "                ##numbering will differ from input as blank lines are stripped\n",
    "                socket_lines = [line for line in socket_output.readlines() if line.strip()]\n",
    "                ##extract lines that assigned CC regions\n",
    "                if socket_file[2:6] not in cc_regions:\n",
    "                    \n",
    "                    \n",
    "                    cc_regions[str(socket_file[-8:-4].decode(\"utf-8\"))] = [(get_CCregion(x)) for x in socket_lines if x[0:6] == 'assign']\n",
    "                    socket_output.close\n",
    "                else:\n",
    "                    cc_regions[str(socket_file[-8:-4].decode(\"utf-8\"))].append([(get_CCregion(x)) for x in socket_lines if x[0:6] == 'assign'])\n",
    "                    socket_output.close\n",
    "    else:\n",
    "        pass"
   ]
  },
  {
   "cell_type": "code",
   "execution_count": 25,
   "metadata": {},
   "outputs": [],
   "source": [
    "with open(\"./CCregions2020.json\", \"w\") as outfile:  \n",
    "    json.dump(cc_regions, outfile) "
   ]
  }
 ],
 "metadata": {
  "kernelspec": {
   "display_name": "Python 3",
   "language": "python",
   "name": "python3"
  },
  "language_info": {
   "codemirror_mode": {
    "name": "ipython",
    "version": 3
   },
   "file_extension": ".py",
   "mimetype": "text/x-python",
   "name": "python",
   "nbconvert_exporter": "python",
   "pygments_lexer": "ipython3",
   "version": "3.8.5"
  }
 },
 "nbformat": 4,
 "nbformat_minor": 2
}
