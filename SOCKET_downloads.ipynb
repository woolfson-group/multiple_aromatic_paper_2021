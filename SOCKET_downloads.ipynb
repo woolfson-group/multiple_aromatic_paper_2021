{
 "cells": [
  {
   "cell_type": "code",
   "execution_count": 2,
   "metadata": {},
   "outputs": [],
   "source": [
    "def download(pdblist_path):\n",
    "    \"\"\"Takes a list of line-separated pdb files and downloads short SOCKET outputs from the pdb\"\"\"\n",
    "    import urllib3\n",
    "    import mmap\n",
    "    import os\n",
    "    import time\n",
    "\n",
    "    pdblist_path = str(pdblist_path)\n",
    "    with open(pdblist_path, 'r') as pdbs:\n",
    "        pdblist = pdbs.read().splitlines()\n",
    "        pdbs.close\n",
    "\n",
    "    #remove any duplication from list\n",
    "    pdblist_nodegen = list( dict.fromkeys(pdblist) )\n",
    "    #iterate through pdbfiles\n",
    "    for pdbcode in pdblist_nodegen:\n",
    "        #create directory for database\n",
    "        if not os.path.isdir(str(pdblist_path[:-4])+\"files/\"):\n",
    "            path = os.makedirs(str(pdblist_path[:-4])+\"files/\", exist_ok=True)\n",
    "        else:\n",
    "            path = str(pdblist_path[:-4])+\"files/\"\n",
    "        #import http data\n",
    "        http = urllib3.PoolManager()\n",
    "        #Are there multiple coiled-coil sections in a single PDB file? Currently cut at 40 sections\n",
    "        #to avoid ones that contain hundreds of biological units.\n",
    "        coiled_coil_outputs = []\n",
    "        coiled_coil_output_number = []\n",
    "        for ccsection in range(1,40):\n",
    "            url_string = str(\"http://coiledcoils.chm.bris.ac.uk/ccplus/files/data/\"+pdbcode[1:3]+\"/\"+pdbcode+\"/socket/\"+pdbcode+\"_\"+str(ccsection)+\".mmol.70.short.socket\")\n",
    "            r = http.request('GET', url_string, preload_content=False)\n",
    "            first_line = r.readlines()[0].decode('ascii')\n",
    "            if first_line[0:4] == 'SOCK':\n",
    "                coiled_coil_outputs.append(url_string)\n",
    "                coiled_coil_output_number.append(ccsection)\n",
    "            else:\n",
    "                break\n",
    "        if len(coiled_coil_outputs) == 0:\n",
    "            output_file = str(path)+str(pdbcode)+\".txt\"\n",
    "        #if it fails to get a file try downloading from this url instead\n",
    "            r = http.request('GET', str(\"http://coiledcoils.chm.bris.ac.uk/ccplus/files/data/\"+pdbcode[1:3]+\"/\"+pdbcode+\"/socket/\"+pdbcode+\".pdb.70.short.socket\"), preload_content=False)\n",
    "        #write output file\n",
    "            with open(output_file, 'wb') as out:\n",
    "                while True:\n",
    "                    data = r.read()\n",
    "                    if not data:\n",
    "                        break\n",
    "                    out.write(data)\n",
    "            out.close()\n",
    "\n",
    "\n",
    "            r.release_conn()\n",
    "        else:\n",
    "            for ccsection_file, section_number in zip(coiled_coil_outputs, coiled_coil_output_number):\n",
    "                output_file = str(path)+str(section_number)+\"_\"+str(pdbcode)+\".txt\"\n",
    "                r = http.request('GET', ccsection_file, preload_content=False)\n",
    "                with open(output_file, 'wb') as out:\n",
    "                    while True:\n",
    "                        data = r.read()\n",
    "                        if not data:\n",
    "                            break\n",
    "                        out.write(data)\n",
    "                out.close()\n",
    "                r.release_conn()\n",
    "    return pdblist_nodegen"
   ]
  },
  {
   "cell_type": "code",
   "execution_count": null,
   "metadata": {},
   "outputs": [],
   "source": [
    "download('./SOCKET_list.txt')"
   ]
  }
 ],
 "metadata": {
  "kernelspec": {
   "display_name": "Python 3",
   "language": "python",
   "name": "python3"
  },
  "language_info": {
   "codemirror_mode": {
    "name": "ipython",
    "version": 3
   },
   "file_extension": ".py",
   "mimetype": "text/x-python",
   "name": "python",
   "nbconvert_exporter": "python",
   "pygments_lexer": "ipython3",
   "version": "3.8.5"
  }
 },
 "nbformat": 4,
 "nbformat_minor": 2
}
